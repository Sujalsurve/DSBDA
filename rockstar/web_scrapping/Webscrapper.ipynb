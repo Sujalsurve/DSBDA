{
 "cells": [
  {
   "cell_type": "code",
   "execution_count": 1,
   "id": "4cd18351-3b0d-45b8-906d-59f618c78845",
   "metadata": {},
   "outputs": [
    {
     "name": "stdout",
     "output_type": "stream",
     "text": [
      "👤 Customer Name: Rubinasak Rubinasak\n",
      "⭐ Rating: 5\n",
      "💬 Review: Nice\n",
      "🏷️ Tag: Not available in static HTML\n",
      "------------------------------------------------------------\n",
      "👤 Customer Name: Shivam Parmar\n",
      "⭐ Rating: 5\n",
      "💬 Review: Very good\n",
      "🏷️ Tag: Not available in static HTML\n",
      "------------------------------------------------------------\n"
     ]
    }
   ],
   "source": [
    "# Required Libraries Import Karna\n",
    "import requests  # Web se data fetch karne ke liye\n",
    "from bs4 import BeautifulSoup  # HTML ko parse karne ke liye\n",
    "import json  # JSON format ko handle karne ke liye\n",
    "\n",
    "# Step 1: Website URL ko request bhejna\n",
    "url = 'https://www.meesho.com/fancy-modern-men-tshirts/p/p3pt3'\n",
    "response = requests.get(url)  # Request bhejte hain aur response lete hain\n",
    "soup = BeautifulSoup(response.content, 'html.parser')  # Response ko HTML parse karte hain\n",
    "\n",
    "# Step 2: <script> tags ko find karna jo JSON data contain karte hain\n",
    "scripts = soup.find_all('script', type='application/ld+json')  # LD+JSON format mein script tags dhund rahe hain\n",
    "\n",
    "# Step 3: Har script tag ko loop karna aur review data ko extract karna\n",
    "for script in scripts:\n",
    "    try:\n",
    "        # JSON data ko parse karte hain\n",
    "        data = json.loads(script.string)  \n",
    "        \n",
    "        # Agar review data hai to usse process karna\n",
    "        if \"review\" in data:\n",
    "            for review in data[\"review\"]:  # Har review ko loop karte hain\n",
    "                # Review details ko extract karna aur print karna\n",
    "                print(f\"👤 Customer Name: {review['author']['name']}\")  # Customer ka naam print karna\n",
    "                print(f\"⭐ Rating: {review['reviewRating']['ratingValue']}\")  # Rating print karna\n",
    "                print(f\"💬 Review: {review['reviewBody']}\")  # Review body print karna\n",
    "                print(\"🏷️ Tag: Not available in static HTML\")  # Tag ka data static HTML mein nahi milta\n",
    "                print(\"-\" * 60)  # Review ke beech mein separation line print karna\n",
    "    except Exception as e:\n",
    "        # Agar koi error aaye to usse ignore karke next script pe move karna\n",
    "        continue"
   ]
  },
  {
   "cell_type": "code",
   "execution_count": 2,
   "id": "40c94de2-15c7-4484-a9dd-da780d0d66c5",
   "metadata": {},
   "outputs": [
    {
     "name": "stdout",
     "output_type": "stream",
     "text": [
      "Overall Rating :  4.1\n"
     ]
    }
   ],
   "source": [
    "rating_tag = soup.find('h1', {'class': 'sc-eDvSVe cdZTwf'})\n",
    "print(\"Overall Rating : \",rating_tag.get_text())\n"
   ]
  },
  {
   "cell_type": "code",
   "execution_count": null,
   "id": "d0acbd64-40f7-4fff-a1ee-48328fcf36e1",
   "metadata": {},
   "outputs": [],
   "source": []
  }
 ],
 "metadata": {
  "kernelspec": {
   "display_name": "Python 3 (ipykernel)",
   "language": "python",
   "name": "python3"
  },
  "language_info": {
   "codemirror_mode": {
    "name": "ipython",
    "version": 3
   },
   "file_extension": ".py",
   "mimetype": "text/x-python",
   "name": "python",
   "nbconvert_exporter": "python",
   "pygments_lexer": "ipython3",
   "version": "3.12.4"
  }
 },
 "nbformat": 4,
 "nbformat_minor": 5
}
